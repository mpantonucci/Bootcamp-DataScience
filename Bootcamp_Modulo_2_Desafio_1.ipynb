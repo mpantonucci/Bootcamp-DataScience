{
  "nbformat": 4,
  "nbformat_minor": 0,
  "metadata": {
    "colab": {
      "name": "Bootcamp Modulo 2 - Desafio 1",
      "provenance": [],
      "collapsed_sections": [],
      "authorship_tag": "ABX9TyOH3xXgNlkERE3+sXlXiSCs",
      "include_colab_link": true
    },
    "kernelspec": {
      "name": "python3",
      "display_name": "Python 3"
    },
    "language_info": {
      "name": "python"
    }
  },
  "cells": [
    {
      "cell_type": "markdown",
      "metadata": {
        "id": "view-in-github",
        "colab_type": "text"
      },
      "source": [
        "<a href=\"https://colab.research.google.com/github/mpantonucci/Bootcamp-DataScience/blob/main/Bootcamp_Modulo_2_Desafio_1.ipynb\" target=\"_parent\"><img src=\"https://colab.research.google.com/assets/colab-badge.svg\" alt=\"Open In Colab\"/></a>"
      ]
    },
    {
      "cell_type": "code",
      "metadata": {
        "id": "S3JOL2meLWMH"
      },
      "source": [
        "import pandas as pd\n",
        "from io import StringIO\n",
        "import requests as rq\n",
        "from bs4 import BeautifulSoup\n"
      ],
      "execution_count": 256,
      "outputs": []
    },
    {
      "cell_type": "code",
      "metadata": {
        "colab": {
          "base_uri": "https://localhost:8080/",
          "height": 434
        },
        "id": "iogZwq4APJJ5",
        "outputId": "17511a6a-7cef-47f1-9396-1aaa74364fba"
      },
      "source": [
        "dados = pd.read_csv('https://raw.githubusercontent.com/alura-cursos/agendamento-hospitalar/main/dados/A160324189_28_143_208.csv',\n",
        "                    encoding=\"ISO-8859-1\", skiprows = 3, sep=\";\", skipfooter=12,\n",
        "                    thousands=\".\", decimal=\",\")\n",
        "dados_da_populacao =\"\"\"Posição\tUnidade federativa\tPopulação\t% da pop. total\tPaís comparável\n",
        "(habitantes)\n",
        "\n",
        "1\tSão Paulo\t46 289 333\t21,9%\tFlag of Spain.svg Espanha (46 439 864)\n",
        "2\tMinas Gerais\t21 292 666\t10,1%\tSri Lanka (20 675 000)\n",
        "3\tRio de Janeiro\t17 366 189\t8,2%\tPaíses Baixos (16 922 900)\n",
        "4\tBahia Bahia\t14 930 634\t7,1%\tChade (14 037 000)\n",
        "5\tParaná\t11 516 840\t5,4%\tBolívia (11 410 651)\n",
        "6\tRio Grande do Sul\t11 422 973\t5,4%\tBélgica (11 250 659)\n",
        "7\tPernambuco\t9 616 621\t4,5%\tBielorrússia (9 485 300)\n",
        "8\tCeará\t9 187 103\t4,3%\tEmirados Árabes Unidos (9 157 000)\n",
        "9\tPará Pará\t8 690 745\t4,1%\tÁustria (8 602 112)\n",
        "10\tSanta Catarina\t7 252 502\t3,4%\tSérvia (7 114 393)\n",
        "11\tMaranhão\t7 114 598\t3,4%\tParaguai (7 003 406)\n",
        "12\tGoiás\t7 113 540\t3,4%\tParaguai (7 003 406)\n",
        "13\tAmazonas\t4 207 714\t2,0%\tLíbano (4 168 000)\n",
        "14\tEspírito Santo\t4 064 052\t1,9%\tLíbano (4 168 000)\n",
        "15\tParaíba\t4 039 277\t1,9%\tLíbano (4 168 000)\n",
        "16\tRio Grande do Norte\t3 534 165\t1,7%\tUruguai (3 415 866)\n",
        "17\tMato Grosso\t3 526 220\t1,7%\tUruguai (3 415 866)\n",
        "18\tAlagoas\t3 351 543\t1,6%\tUruguai (3 415 866)\n",
        "19\tPiauí\t3 281 480\t1,6%\tKuwait (3 268 431)\n",
        "20\tDistrito Federal\t3 055 149\t1,4%\tLituânia (2 900 787)\n",
        "21\tMato Grosso do Sul\t2 809 394\t1,3%\tJamaica (2 717 991)\n",
        "22\tSergipe\t2 318 822\t1,1%\tNamíbia (2 280 700)\n",
        "23\tRondônia\t1 796 460\t0,8%\tGabão (1 725 000)\n",
        "24\tTocantins\t1 590 248\t0,7%\tBahrein (1 359 800)\n",
        "25\tAcre\t894 470\t0,4%\tFiji (859 178)\n",
        "26\tAmapá\t861 773\t0,4%\tFiji (859 178)\n",
        "27\tRoraima\t631 181\t0,3%\tLuxemburgo (562 958)\"\"\"\n",
        "\n",
        "\n",
        "dados_da_populacao_io = StringIO(dados_da_populacao)\n",
        "\n",
        "populacao = pd.read_csv(dados_da_populacao_io, sep=\"\\t\")\n",
        "populacao = populacao.dropna()\n",
        "populacao[\"populacao\"] = populacao[\"População\"].str.replace(\" \", \"\").astype(int)\n",
        "populacao[\"uf\"] = populacao[\"Unidade federativa\"]\n",
        "populacao =  populacao[[\"populacao\", \"uf\"]]\n",
        "display(populacao.head())\n",
        "display(populacao.info())\n"
      ],
      "execution_count": 257,
      "outputs": [
        {
          "output_type": "stream",
          "name": "stderr",
          "text": [
            "/usr/local/lib/python3.7/dist-packages/ipykernel_launcher.py:3: ParserWarning: Falling back to the 'python' engine because the 'c' engine does not support skipfooter; you can avoid this warning by specifying engine='python'.\n",
            "  This is separate from the ipykernel package so we can avoid doing imports until\n"
          ]
        },
        {
          "output_type": "display_data",
          "data": {
            "text/html": [
              "<div>\n",
              "<style scoped>\n",
              "    .dataframe tbody tr th:only-of-type {\n",
              "        vertical-align: middle;\n",
              "    }\n",
              "\n",
              "    .dataframe tbody tr th {\n",
              "        vertical-align: top;\n",
              "    }\n",
              "\n",
              "    .dataframe thead th {\n",
              "        text-align: right;\n",
              "    }\n",
              "</style>\n",
              "<table border=\"1\" class=\"dataframe\">\n",
              "  <thead>\n",
              "    <tr style=\"text-align: right;\">\n",
              "      <th></th>\n",
              "      <th>populacao</th>\n",
              "      <th>uf</th>\n",
              "    </tr>\n",
              "  </thead>\n",
              "  <tbody>\n",
              "    <tr>\n",
              "      <th>1</th>\n",
              "      <td>46289333</td>\n",
              "      <td>São Paulo</td>\n",
              "    </tr>\n",
              "    <tr>\n",
              "      <th>2</th>\n",
              "      <td>21292666</td>\n",
              "      <td>Minas Gerais</td>\n",
              "    </tr>\n",
              "    <tr>\n",
              "      <th>3</th>\n",
              "      <td>17366189</td>\n",
              "      <td>Rio de Janeiro</td>\n",
              "    </tr>\n",
              "    <tr>\n",
              "      <th>4</th>\n",
              "      <td>14930634</td>\n",
              "      <td>Bahia Bahia</td>\n",
              "    </tr>\n",
              "    <tr>\n",
              "      <th>5</th>\n",
              "      <td>11516840</td>\n",
              "      <td>Paraná</td>\n",
              "    </tr>\n",
              "  </tbody>\n",
              "</table>\n",
              "</div>"
            ],
            "text/plain": [
              "   populacao              uf\n",
              "1   46289333       São Paulo\n",
              "2   21292666    Minas Gerais\n",
              "3   17366189  Rio de Janeiro\n",
              "4   14930634     Bahia Bahia\n",
              "5   11516840          Paraná"
            ]
          },
          "metadata": {}
        },
        {
          "output_type": "stream",
          "name": "stdout",
          "text": [
            "<class 'pandas.core.frame.DataFrame'>\n",
            "Int64Index: 27 entries, 1 to 27\n",
            "Data columns (total 2 columns):\n",
            " #   Column     Non-Null Count  Dtype \n",
            "---  ------     --------------  ----- \n",
            " 0   populacao  27 non-null     int64 \n",
            " 1   uf         27 non-null     object\n",
            "dtypes: int64(1), object(1)\n",
            "memory usage: 648.0+ bytes\n"
          ]
        },
        {
          "output_type": "display_data",
          "data": {
            "text/plain": [
              "None"
            ]
          },
          "metadata": {}
        }
      ]
    },
    {
      "cell_type": "code",
      "metadata": {
        "colab": {
          "base_uri": "https://localhost:8080/"
        },
        "id": "TOrwMVcSyga_",
        "outputId": "2e307604-f08e-4a85-9a10-e85ac832f922"
      },
      "source": [
        "\n",
        "wiki = \"https://pt.wikipedia.org/wiki/Lista_de_unidades_federativas_do_Brasil_por_popula%C3%A7%C3%A3o\"\n",
        "page = rq.get(wiki)\n",
        "soup = BeautifulSoup(page.content)\n",
        "table = soup.find('table', attrs={'class':'wikitable sortable'})\n",
        "regiao = ''\n",
        "populacao = ''\n",
        "for row in table.find_all('tr'):\n",
        "    time = 0\n",
        "    for column in row.find_all('td'):\n",
        "        time = time + 1\n",
        "        if (time == 2):\n",
        "              regiao = regiao + ((column.find('a')).get('title')) + ','\n",
        "              \n",
        "        elif (time == 3):\n",
        "              populacao = populacao + str(column.string) +  ','\n",
        "\n",
        "regiao = regiao.replace(' (estado)', '').replace(' (Brasil)','').rstrip().split(',')  \n",
        "populacao = populacao.replace(' ', '.').split('\\n,')\n",
        "df = pd.DataFrame(list(zip(regiao,populacao)), columns = ['Regiao','Populacao'])\n",
        "print(df)"
      ],
      "execution_count": 258,
      "outputs": [
        {
          "output_type": "stream",
          "name": "stdout",
          "text": [
            "                 Regiao   Populacao\n",
            "0             São Paulo  46.649.132\n",
            "1          Minas Gerais  21.411.923\n",
            "2        Rio de Janeiro  17.463.349\n",
            "3                 Bahia  14.985.284\n",
            "4                Paraná  11.597.484\n",
            "5     Rio Grande do Sul  11.466.630\n",
            "6            Pernambuco   9.674.793\n",
            "7                 Ceará   9.240.580\n",
            "8                  Pará   8.777.124\n",
            "9        Santa Catarina   7.338.473\n",
            "10                Goiás   7.206.589\n",
            "11             Maranhão   7.153.262\n",
            "12             Amazonas   4.269.995\n",
            "13       Espírito Santo   4.108.508\n",
            "14              Paraíba   4.059.905\n",
            "15          Mato Grosso   3.567.234\n",
            "16  Rio Grande do Norte   3.560.903\n",
            "17              Alagoas   3.365.351\n",
            "18                Piauí   3.289.290\n",
            "19     Distrito Federal   3.094.325\n",
            "20   Mato Grosso do Sul   2.839.188\n",
            "21              Sergipe   2.338.474\n",
            "22             Rondônia   1.815.278\n",
            "23            Tocantins   1.607.363\n",
            "24                 Acre     906.876\n",
            "25                Amapá     877.613\n",
            "26              Roraima     652.713\n",
            "27                                 \n"
          ]
        }
      ]
    }
  ]
}